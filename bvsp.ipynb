{
 "cells": [
  {
   "cell_type": "code",
   "execution_count": 1,
   "id": "87f11510-5665-424c-81b7-748a823a71e8",
   "metadata": {},
   "outputs": [],
   "source": [
    "import pandas as pd\n",
    "import yfinance as yf\n",
    "\n",
    "from sklearn.ensemble import RandomForestClassifier\n",
    "from sklearn.metrics import precision_score"
   ]
  },
  {
   "cell_type": "code",
   "execution_count": 2,
   "id": "0a33c83d-ea7b-4620-a8d8-cb8306c6dc9f",
   "metadata": {},
   "outputs": [],
   "source": [
    "model = RandomForestClassifier(n_estimators=300, min_samples_split=100, random_state=1)"
   ]
  },
  {
   "cell_type": "code",
   "execution_count": 3,
   "id": "2268a4fe-2e26-4e36-88ae-ff91802c24a3",
   "metadata": {},
   "outputs": [],
   "source": [
    "bvsp = yf.Ticker(\"^BVSP\")"
   ]
  },
  {
   "cell_type": "code",
   "execution_count": 4,
   "id": "2285ec94-326b-445d-a799-a6d749b3b0ea",
   "metadata": {},
   "outputs": [],
   "source": [
    "bvsp = bvsp.history(period=\"max\")"
   ]
  },
  {
   "cell_type": "code",
   "execution_count": 5,
   "id": "e9ee3c1c-82a1-45bb-bb09-fc59d68c3f0e",
   "metadata": {},
   "outputs": [
    {
     "data": {
      "text/html": [
       "<div>\n",
       "<style scoped>\n",
       "    .dataframe tbody tr th:only-of-type {\n",
       "        vertical-align: middle;\n",
       "    }\n",
       "\n",
       "    .dataframe tbody tr th {\n",
       "        vertical-align: top;\n",
       "    }\n",
       "\n",
       "    .dataframe thead th {\n",
       "        text-align: right;\n",
       "    }\n",
       "</style>\n",
       "<table border=\"1\" class=\"dataframe\">\n",
       "  <thead>\n",
       "    <tr style=\"text-align: right;\">\n",
       "      <th></th>\n",
       "      <th>Open</th>\n",
       "      <th>High</th>\n",
       "      <th>Low</th>\n",
       "      <th>Close</th>\n",
       "      <th>Volume</th>\n",
       "      <th>Dividends</th>\n",
       "      <th>Stock Splits</th>\n",
       "    </tr>\n",
       "    <tr>\n",
       "      <th>Date</th>\n",
       "      <th></th>\n",
       "      <th></th>\n",
       "      <th></th>\n",
       "      <th></th>\n",
       "      <th></th>\n",
       "      <th></th>\n",
       "      <th></th>\n",
       "    </tr>\n",
       "  </thead>\n",
       "  <tbody>\n",
       "    <tr>\n",
       "      <th>1993-04-27</th>\n",
       "      <td>24.799999</td>\n",
       "      <td>25.400000</td>\n",
       "      <td>24.500000</td>\n",
       "      <td>24.500000</td>\n",
       "      <td>0</td>\n",
       "      <td>0</td>\n",
       "      <td>0</td>\n",
       "    </tr>\n",
       "    <tr>\n",
       "      <th>1993-04-28</th>\n",
       "      <td>24.500000</td>\n",
       "      <td>24.600000</td>\n",
       "      <td>23.700001</td>\n",
       "      <td>24.299999</td>\n",
       "      <td>0</td>\n",
       "      <td>0</td>\n",
       "      <td>0</td>\n",
       "    </tr>\n",
       "    <tr>\n",
       "      <th>1993-04-29</th>\n",
       "      <td>24.299999</td>\n",
       "      <td>24.799999</td>\n",
       "      <td>23.700001</td>\n",
       "      <td>23.700001</td>\n",
       "      <td>0</td>\n",
       "      <td>0</td>\n",
       "      <td>0</td>\n",
       "    </tr>\n",
       "    <tr>\n",
       "      <th>1993-04-30</th>\n",
       "      <td>23.700001</td>\n",
       "      <td>24.200001</td>\n",
       "      <td>23.700001</td>\n",
       "      <td>24.100000</td>\n",
       "      <td>0</td>\n",
       "      <td>0</td>\n",
       "      <td>0</td>\n",
       "    </tr>\n",
       "    <tr>\n",
       "      <th>1993-05-03</th>\n",
       "      <td>24.100000</td>\n",
       "      <td>24.400000</td>\n",
       "      <td>23.799999</td>\n",
       "      <td>24.100000</td>\n",
       "      <td>0</td>\n",
       "      <td>0</td>\n",
       "      <td>0</td>\n",
       "    </tr>\n",
       "    <tr>\n",
       "      <th>...</th>\n",
       "      <td>...</td>\n",
       "      <td>...</td>\n",
       "      <td>...</td>\n",
       "      <td>...</td>\n",
       "      <td>...</td>\n",
       "      <td>...</td>\n",
       "      <td>...</td>\n",
       "    </tr>\n",
       "    <tr>\n",
       "      <th>2022-08-17</th>\n",
       "      <td>113508.000000</td>\n",
       "      <td>114146.000000</td>\n",
       "      <td>112483.000000</td>\n",
       "      <td>113708.000000</td>\n",
       "      <td>14652800</td>\n",
       "      <td>0</td>\n",
       "      <td>0</td>\n",
       "    </tr>\n",
       "    <tr>\n",
       "      <th>2022-08-18</th>\n",
       "      <td>113708.000000</td>\n",
       "      <td>114375.000000</td>\n",
       "      <td>113304.000000</td>\n",
       "      <td>113813.000000</td>\n",
       "      <td>10644200</td>\n",
       "      <td>0</td>\n",
       "      <td>0</td>\n",
       "    </tr>\n",
       "    <tr>\n",
       "      <th>2022-08-19</th>\n",
       "      <td>113807.000000</td>\n",
       "      <td>113807.000000</td>\n",
       "      <td>111146.000000</td>\n",
       "      <td>111496.000000</td>\n",
       "      <td>12678600</td>\n",
       "      <td>0</td>\n",
       "      <td>0</td>\n",
       "    </tr>\n",
       "    <tr>\n",
       "      <th>2022-08-22</th>\n",
       "      <td>111487.000000</td>\n",
       "      <td>111487.000000</td>\n",
       "      <td>109858.000000</td>\n",
       "      <td>110501.000000</td>\n",
       "      <td>11010900</td>\n",
       "      <td>0</td>\n",
       "      <td>0</td>\n",
       "    </tr>\n",
       "    <tr>\n",
       "      <th>2022-08-23</th>\n",
       "      <td>110504.000000</td>\n",
       "      <td>112965.000000</td>\n",
       "      <td>110503.000000</td>\n",
       "      <td>112857.000000</td>\n",
       "      <td>11892000</td>\n",
       "      <td>0</td>\n",
       "      <td>0</td>\n",
       "    </tr>\n",
       "  </tbody>\n",
       "</table>\n",
       "<p>7257 rows × 7 columns</p>\n",
       "</div>"
      ],
      "text/plain": [
       "                     Open           High            Low          Close  \\\n",
       "Date                                                                     \n",
       "1993-04-27      24.799999      25.400000      24.500000      24.500000   \n",
       "1993-04-28      24.500000      24.600000      23.700001      24.299999   \n",
       "1993-04-29      24.299999      24.799999      23.700001      23.700001   \n",
       "1993-04-30      23.700001      24.200001      23.700001      24.100000   \n",
       "1993-05-03      24.100000      24.400000      23.799999      24.100000   \n",
       "...                   ...            ...            ...            ...   \n",
       "2022-08-17  113508.000000  114146.000000  112483.000000  113708.000000   \n",
       "2022-08-18  113708.000000  114375.000000  113304.000000  113813.000000   \n",
       "2022-08-19  113807.000000  113807.000000  111146.000000  111496.000000   \n",
       "2022-08-22  111487.000000  111487.000000  109858.000000  110501.000000   \n",
       "2022-08-23  110504.000000  112965.000000  110503.000000  112857.000000   \n",
       "\n",
       "              Volume  Dividends  Stock Splits  \n",
       "Date                                           \n",
       "1993-04-27         0          0             0  \n",
       "1993-04-28         0          0             0  \n",
       "1993-04-29         0          0             0  \n",
       "1993-04-30         0          0             0  \n",
       "1993-05-03         0          0             0  \n",
       "...              ...        ...           ...  \n",
       "2022-08-17  14652800          0             0  \n",
       "2022-08-18  10644200          0             0  \n",
       "2022-08-19  12678600          0             0  \n",
       "2022-08-22  11010900          0             0  \n",
       "2022-08-23  11892000          0             0  \n",
       "\n",
       "[7257 rows x 7 columns]"
      ]
     },
     "execution_count": 5,
     "metadata": {},
     "output_type": "execute_result"
    }
   ],
   "source": [
    "bvsp"
   ]
  },
  {
   "cell_type": "code",
   "execution_count": 6,
   "id": "4e0c55af-2b51-4763-9c49-21d267740a50",
   "metadata": {},
   "outputs": [
    {
     "data": {
      "text/plain": [
       "<AxesSubplot:xlabel='Date'>"
      ]
     },
     "execution_count": 6,
     "metadata": {},
     "output_type": "execute_result"
    },
    {
     "data": {
      "image/png": "[encoded data removed]",
      "text/plain": [
       "<Figure size 432x288 with 1 Axes>"
      ]
     },
     "metadata": {
      "needs_background": "light"
     },
     "output_type": "display_data"
    }
   ],
   "source": [
    "bvsp.plot.line(y=\"Close\", use_index=True)"
   ]
  },
  {
   "cell_type": "code",
   "execution_count": 7,
   "id": "f620cd47-662d-4dd0-a3e6-4d25576c4170",
   "metadata": {},
   "outputs": [],
   "source": [
    "del bvsp[\"Dividends\"]\n",
    "del bvsp[\"Stock Splits\"]"
   ]
  },
  {
   "cell_type": "code",
   "execution_count": 8,
   "id": "e24bd097-f967-4a8e-ac9a-1145a0f04b6e",
   "metadata": {},
   "outputs": [],
   "source": [
    "bvsp[\"Next Price\"] = bvsp[\"Close\"].shift(-1)"
   ]
  },
  {
   "cell_type": "code",
   "execution_count": 9,
   "id": "f67223f6-bf0a-4004-99c7-1e98064d04d9",
   "metadata": {},
   "outputs": [],
   "source": [
    "bvsp[\"Target\"] = (bvsp[\"Next Price\"] > bvsp[\"Close\"]).astype(int)"
   ]
  },
  {
   "cell_type": "code",
   "execution_count": 10,
   "id": "8e4211cc-0dc8-450f-84fc-d17d1ab33f96",
   "metadata": {},
   "outputs": [
    {
     "data": {
      "text/html": [
       "<style>#sk-container-id-1 {color: black;background-color: white;}#sk-container-id-1 pre{padding: 0;}#sk-container-id-1 div.sk-toggleable {background-color: white;}#sk-container-id-1 label.sk-toggleable__label {cursor: pointer;display: block;width: 100%;margin-bottom: 0;padding: 0.3em;box-sizing: border-box;text-align: center;}#sk-container-id-1 label.sk-toggleable__label-arrow:before {content: \"▸\";float: left;margin-right: 0.25em;color: #696969;}#sk-container-id-1 label.sk-toggleable__label-arrow:hover:before {color: black;}#sk-container-id-1 div.sk-estimator:hover label.sk-toggleable__label-arrow:before {color: black;}#sk-container-id-1 div.sk-toggleable__content {max-height: 0;max-width: 0;overflow: hidden;text-align: left;background-color: #f0f8ff;}#sk-container-id-1 div.sk-toggleable__content pre {margin: 0.2em;color: black;border-radius: 0.25em;background-color: #f0f8ff;}#sk-container-id-1 input.sk-toggleable__control:checked~div.sk-toggleable__content {max-height: 200px;max-width: 100%;overflow: auto;}#sk-container-id-1 input.sk-toggleable__control:checked~label.sk-toggleable__label-arrow:before {content: \"▾\";}#sk-container-id-1 div.sk-estimator input.sk-toggleable__control:checked~label.sk-toggleable__label {background-color: #d4ebff;}#sk-container-id-1 div.sk-label input.sk-toggleable__control:checked~label.sk-toggleable__label {background-color: #d4ebff;}#sk-container-id-1 input.sk-hidden--visually {border: 0;clip: rect(1px 1px 1px 1px);clip: rect(1px, 1px, 1px, 1px);height: 1px;margin: -1px;overflow: hidden;padding: 0;position: absolute;width: 1px;}#sk-container-id-1 div.sk-estimator {font-family: monospace;background-color: #f0f8ff;border: 1px dotted black;border-radius: 0.25em;box-sizing: border-box;margin-bottom: 0.5em;}#sk-container-id-1 div.sk-estimator:hover {background-color: #d4ebff;}#sk-container-id-1 div.sk-parallel-item::after {content: \"\";width: 100%;border-bottom: 1px solid gray;flex-grow: 1;}#sk-container-id-1 div.sk-label:hover label.sk-toggleable__label {background-color: #d4ebff;}#sk-container-id-1 div.sk-serial::before {content: \"\";position: absolute;border-left: 1px solid gray;box-sizing: border-box;top: 0;bottom: 0;left: 50%;z-index: 0;}#sk-container-id-1 div.sk-serial {display: flex;flex-direction: column;align-items: center;background-color: white;padding-right: 0.2em;padding-left: 0.2em;position: relative;}#sk-container-id-1 div.sk-item {position: relative;z-index: 1;}#sk-container-id-1 div.sk-parallel {display: flex;align-items: stretch;justify-content: center;background-color: white;position: relative;}#sk-container-id-1 div.sk-item::before, #sk-container-id-1 div.sk-parallel-item::before {content: \"\";position: absolute;border-left: 1px solid gray;box-sizing: border-box;top: 0;bottom: 0;left: 50%;z-index: -1;}#sk-container-id-1 div.sk-parallel-item {display: flex;flex-direction: column;z-index: 1;position: relative;background-color: white;}#sk-container-id-1 div.sk-parallel-item:first-child::after {align-self: flex-end;width: 50%;}#sk-container-id-1 div.sk-parallel-item:last-child::after {align-self: flex-start;width: 50%;}#sk-container-id-1 div.sk-parallel-item:only-child::after {width: 0;}#sk-container-id-1 div.sk-dashed-wrapped {border: 1px dashed gray;margin: 0 0.4em 0.5em 0.4em;box-sizing: border-box;padding-bottom: 0.4em;background-color: white;}#sk-container-id-1 div.sk-label label {font-family: monospace;font-weight: bold;display: inline-block;line-height: 1.2em;}#sk-container-id-1 div.sk-label-container {text-align: center;}#sk-container-id-1 div.sk-container {/* jupyter's `normalize.less` sets `[hidden] { display: none; }` but bootstrap.min.css set `[hidden] { display: none !important; }` so we also need the `!important` here to be able to override the default hidden behavior on the sphinx rendered scikit-learn.org. See: https://github.com/scikit-learn/scikit-learn/issues/21755 */display: inline-block !important;position: relative;}#sk-container-id-1 div.sk-text-repr-fallback {display: none;}</style><div id=\"sk-container-id-1\" class=\"sk-top-container\"><div class=\"sk-text-repr-fallback\"><pre>RandomForestClassifier(min_samples_split=100, n_estimators=300, random_state=1)</pre><b>In a Jupyter environment, please rerun this cell to show the HTML representation or trust the notebook. <br />On GitHub, the HTML representation is unable to render, please try loading this page with nbviewer.org.</b></div><div class=\"sk-container\" hidden><div class=\"sk-item\"><div class=\"sk-estimator sk-toggleable\"><input class=\"sk-toggleable__control sk-hidden--visually\" id=\"sk-estimator-id-1\" type=\"checkbox\" checked><label for=\"sk-estimator-id-1\" class=\"sk-toggleable__label sk-toggleable__label-arrow\">RandomForestClassifier</label><div class=\"sk-toggleable__content\"><pre>RandomForestClassifier(min_samples_split=100, n_estimators=300, random_state=1)</pre></div></div></div></div></div>"
      ],
      "text/plain": [
       "RandomForestClassifier(min_samples_split=100, n_estimators=300, random_state=1)"
      ]
     },
     "execution_count": 10,
     "metadata": {},
     "output_type": "execute_result"
    }
   ],
   "source": [
    "train = bvsp.iloc[:-100]\n",
    "test = bvsp.iloc[-100:]\n",
    "\n",
    "predictors = [\"Open\", \"High\", \"Low\", \"Close\", \"Volume\"]\n",
    "model.fit(train[predictors], train[\"Target\"])"
   ]
  },
  {
   "cell_type": "code",
   "execution_count": 11,
   "id": "cb821597-69f4-4cf3-a4d0-744edd4ada5b",
   "metadata": {},
   "outputs": [],
   "source": [
    "preds = model.predict(test[predictors])"
   ]
  },
  {
   "cell_type": "code",
   "execution_count": 12,
   "id": "4e78eed8-cf45-4dd5-8965-f77293109643",
   "metadata": {},
   "outputs": [],
   "source": [
    "preds = pd.Series(preds, index=test.index)"
   ]
  },
  {
   "cell_type": "code",
   "execution_count": 13,
   "id": "e8a6ed58-f933-4d1a-8b9b-eaccadb91ae6",
   "metadata": {},
   "outputs": [
    {
     "data": {
      "text/plain": [
       "0.4819277108433735"
      ]
     },
     "execution_count": 13,
     "metadata": {},
     "output_type": "execute_result"
    }
   ],
   "source": [
    "precision_score(test[\"Target\"], preds)"
   ]
  },
  {
   "cell_type": "code",
   "execution_count": 14,
   "id": "fe83fe12-657d-4406-bc25-114918dc320c",
   "metadata": {},
   "outputs": [],
   "source": [
    "combined = pd.concat([test[\"Target\"], preds], axis=1)"
   ]
  },
  {
   "cell_type": "code",
   "execution_count": 15,
   "id": "1ca8ab44-b696-4a96-9fcd-ee0435d82b4b",
   "metadata": {},
   "outputs": [
    {
     "data": {
      "text/plain": [
       "<AxesSubplot:xlabel='Date'>"
      ]
     },
     "execution_count": 15,
     "metadata": {},
     "output_type": "execute_result"
    },
    {
     "data": {
      "image/png": "[encoded data removed]",
      "text/plain": [
       "<Figure size 432x288 with 1 Axes>"
      ]
     },
     "metadata": {
      "needs_background": "light"
     },
     "output_type": "display_data"
    }
   ],
   "source": [
    "combined.plot()"
   ]
  },
  {
   "cell_type": "code",
   "execution_count": 16,
   "id": "45964c5d-00dc-4b63-8d33-6a4cccc895d1",
   "metadata": {},
   "outputs": [],
   "source": [
    "def predict(train, test, predictors, model):\n",
    "    model.fit(train[predictors], train[\"Target\"])\n",
    "    preds = model.predict(test[predictors])\n",
    "    preds = pd.Series(preds, index=test.index, name=\"Predictions\")\n",
    "    combined = pd.concat([test[\"Target\"], preds], axis=1)\n",
    "    return combined"
   ]
  },
  {
   "cell_type": "code",
   "execution_count": 17,
   "id": "62655686-871f-4490-a19e-dbacd4bb220b",
   "metadata": {},
   "outputs": [],
   "source": [
    "def backtest(data, model, predictors, start=2500, step=250):\n",
    "    all_predictions = []\n",
    "    \n",
    "    for i in range(start, data.shape[0], step):\n",
    "        train = data.iloc[0:i].copy()\n",
    "        test = data.iloc[i:(i+step)].copy()\n",
    "        predictions = predict(train, test, predictors, model)\n",
    "        all_predictions.append(predictions)\n",
    "    return pd.concat(all_predictions)"
   ]
  },
  {
   "cell_type": "code",
   "execution_count": 18,
   "id": "6b128f7d-88d6-4cec-99e2-cd7025247e1d",
   "metadata": {},
   "outputs": [],
   "source": [
    "predictions = backtest(bvsp, model, predictors)"
   ]
  },
  {
   "cell_type": "code",
   "execution_count": 19,
   "id": "b1662265-b527-4af4-83bb-6a531e65c043",
   "metadata": {},
   "outputs": [
    {
     "data": {
      "text/plain": [
       "0    2558\n",
       "1    2199\n",
       "Name: Predictions, dtype: int64"
      ]
     },
     "execution_count": 19,
     "metadata": {},
     "output_type": "execute_result"
    }
   ],
   "source": [
    "predictions[\"Predictions\"].value_counts()"
   ]
  },
  {
   "cell_type": "code",
   "execution_count": 20,
   "id": "e598e134-0187-440c-882a-2e61b11ff205",
   "metadata": {},
   "outputs": [
    {
     "data": {
      "text/plain": [
       "0.5188722146430196"
      ]
     },
     "execution_count": 20,
     "metadata": {},
     "output_type": "execute_result"
    }
   ],
   "source": [
    "precision_score(predictions[\"Target\"], predictions[\"Predictions\"])"
   ]
  },
  {
   "cell_type": "code",
   "execution_count": 21,
   "id": "7adf870b-9293-429f-95d7-c76fd9fcb1a0",
   "metadata": {},
   "outputs": [
    {
     "data": {
      "text/plain": [
       "1    0.52386\n",
       "0    0.47614\n",
       "Name: Target, dtype: float64"
      ]
     },
     "execution_count": 21,
     "metadata": {},
     "output_type": "execute_result"
    }
   ],
   "source": [
    "predictions[\"Target\"].value_counts() / predictions.shape[0]"
   ]
  },
  {
   "cell_type": "code",
   "execution_count": 22,
   "id": "26951323-ae55-4810-8a34-795a184d4965",
   "metadata": {},
   "outputs": [],
   "source": [
    "horizons = [2, 5, 60, 250, 1000]\n",
    "new_predictors = []\n",
    "\n",
    "for horizon in horizons:\n",
    "    rolling_averages = bvsp.rolling(horizon).mean()\n",
    "    \n",
    "    ratio_column = f\"Close_Ratio_{horizon}\"\n",
    "    bvsp[ratio_column] = bvsp[\"Close\"] / rolling_averages[\"Close\"]\n",
    "    \n",
    "    trend_column = f\"Trend_{horizon}\"\n",
    "    bvsp[trend_column] = bvsp.shift(1).rolling(horizon).sum()[\"Target\"]\n",
    "    \n",
    "    new_predictors += [ratio_column, trend_column]"
   ]
  },
  {
   "cell_type": "code",
   "execution_count": 23,
   "id": "27c17cf9-2ddf-423b-a266-83f18b80494a",
   "metadata": {},
   "outputs": [],
   "source": [
    "bvsp = bvsp.dropna()"
   ]
  },
  {
   "cell_type": "code",
   "execution_count": 24,
   "id": "8f12b8fb-d4ea-4c4c-a5f9-05efe19fc8a1",
   "metadata": {},
   "outputs": [],
   "source": [
    "model = RandomForestClassifier(n_estimators=300, min_samples_split=50, random_state=1)"
   ]
  },
  {
   "cell_type": "code",
   "execution_count": 25,
   "id": "756b241f-6115-4ac9-9b6c-14ebb91aa1e2",
   "metadata": {},
   "outputs": [],
   "source": [
    "def predict(train, test, predictors, model):\n",
    "    model.fit(train[predictors], train[\"Target\"])\n",
    "    preds = model.predict_proba(test[predictors])[:,1]\n",
    "    preds[preds >= .6] = 1\n",
    "    preds[preds < .6] = 0\n",
    "    preds = pd.Series(preds, index=test.index, name=\"Predictions\")\n",
    "    combined = pd.concat([test[\"Target\"], preds], axis=1)\n",
    "    return combined"
   ]
  },
  {
   "cell_type": "code",
   "execution_count": 26,
   "id": "0689c82a-39ae-458f-98df-5867ddbe11fd",
   "metadata": {},
   "outputs": [],
   "source": [
    "predictions = backtest(bvsp, model, new_predictors)"
   ]
  },
  {
   "cell_type": "code",
   "execution_count": 27,
   "id": "efb1c4b6-ac09-4e8f-8005-3e6818ad7ccc",
   "metadata": {},
   "outputs": [
    {
     "data": {
      "text/plain": [
       "0.0    3468\n",
       "1.0     288\n",
       "Name: Predictions, dtype: int64"
      ]
     },
     "execution_count": 27,
     "metadata": {},
     "output_type": "execute_result"
    }
   ],
   "source": [
    "predictions[\"Predictions\"].value_counts()"
   ]
  },
  {
   "cell_type": "code",
   "execution_count": 28,
   "id": "2ca1c250-29d7-477e-aefc-def88a1bd179",
   "metadata": {},
   "outputs": [
    {
     "data": {
      "text/plain": [
       "0.5104166666666666"
      ]
     },
     "execution_count": 28,
     "metadata": {},
     "output_type": "execute_result"
    }
   ],
   "source": [
    "precision_score(predictions[\"Target\"], predictions[\"Predictions\"])"
   ]
  },
  {
   "cell_type": "code",
   "execution_count": 29,
   "id": "a4f64915-a5cb-4916-b787-73522a57011d",
   "metadata": {},
   "outputs": [
    {
     "data": {
      "text/html": [
       "<div>\n",
       "<style scoped>\n",
       "    .dataframe tbody tr th:only-of-type {\n",
       "        vertical-align: middle;\n",
       "    }\n",
       "\n",
       "    .dataframe tbody tr th {\n",
       "        vertical-align: top;\n",
       "    }\n",
       "\n",
       "    .dataframe thead th {\n",
       "        text-align: right;\n",
       "    }\n",
       "</style>\n",
       "<table border=\"1\" class=\"dataframe\">\n",
       "  <thead>\n",
       "    <tr style=\"text-align: right;\">\n",
       "      <th></th>\n",
       "      <th>Open</th>\n",
       "      <th>High</th>\n",
       "      <th>Low</th>\n",
       "      <th>Close</th>\n",
       "      <th>Volume</th>\n",
       "      <th>Next Price</th>\n",
       "      <th>Target</th>\n",
       "      <th>Close_Ratio_2</th>\n",
       "      <th>Trend_2</th>\n",
       "      <th>Close_Ratio_5</th>\n",
       "      <th>Trend_5</th>\n",
       "      <th>Close_Ratio_60</th>\n",
       "      <th>Trend_60</th>\n",
       "      <th>Close_Ratio_250</th>\n",
       "      <th>Trend_250</th>\n",
       "      <th>Close_Ratio_1000</th>\n",
       "      <th>Trend_1000</th>\n",
       "    </tr>\n",
       "    <tr>\n",
       "      <th>Date</th>\n",
       "      <th></th>\n",
       "      <th></th>\n",
       "      <th></th>\n",
       "      <th></th>\n",
       "      <th></th>\n",
       "      <th></th>\n",
       "      <th></th>\n",
       "      <th></th>\n",
       "      <th></th>\n",
       "      <th></th>\n",
       "      <th></th>\n",
       "      <th></th>\n",
       "      <th></th>\n",
       "      <th></th>\n",
       "      <th></th>\n",
       "      <th></th>\n",
       "      <th></th>\n",
       "    </tr>\n",
       "  </thead>\n",
       "  <tbody>\n",
       "    <tr>\n",
       "      <th>1997-05-14</th>\n",
       "      <td>10650.0</td>\n",
       "      <td>10650.0</td>\n",
       "      <td>10188.0</td>\n",
       "      <td>10283.0</td>\n",
       "      <td>0</td>\n",
       "      <td>10354.0</td>\n",
       "      <td>1</td>\n",
       "      <td>0.982562</td>\n",
       "      <td>0.0</td>\n",
       "      <td>0.978569</td>\n",
       "      <td>3.0</td>\n",
       "      <td>1.086880</td>\n",
       "      <td>37.0</td>\n",
       "      <td>1.416977</td>\n",
       "      <td>141.0</td>\n",
       "      <td>2.561637</td>\n",
       "      <td>583.0</td>\n",
       "    </tr>\n",
       "    <tr>\n",
       "      <th>1997-05-15</th>\n",
       "      <td>10560.0</td>\n",
       "      <td>10560.0</td>\n",
       "      <td>10256.0</td>\n",
       "      <td>10354.0</td>\n",
       "      <td>0</td>\n",
       "      <td>10499.0</td>\n",
       "      <td>1</td>\n",
       "      <td>1.003440</td>\n",
       "      <td>1.0</td>\n",
       "      <td>0.986885</td>\n",
       "      <td>3.0</td>\n",
       "      <td>1.091205</td>\n",
       "      <td>38.0</td>\n",
       "      <td>1.422897</td>\n",
       "      <td>142.0</td>\n",
       "      <td>2.572704</td>\n",
       "      <td>584.0</td>\n",
       "    </tr>\n",
       "    <tr>\n",
       "      <th>1997-05-16</th>\n",
       "      <td>10354.0</td>\n",
       "      <td>10511.0</td>\n",
       "      <td>10354.0</td>\n",
       "      <td>10499.0</td>\n",
       "      <td>0</td>\n",
       "      <td>10506.0</td>\n",
       "      <td>1</td>\n",
       "      <td>1.006953</td>\n",
       "      <td>2.0</td>\n",
       "      <td>1.000572</td>\n",
       "      <td>3.0</td>\n",
       "      <td>1.103225</td>\n",
       "      <td>38.0</td>\n",
       "      <td>1.438825</td>\n",
       "      <td>142.0</td>\n",
       "      <td>2.601960</td>\n",
       "      <td>585.0</td>\n",
       "    </tr>\n",
       "    <tr>\n",
       "      <th>1997-05-19</th>\n",
       "      <td>10556.0</td>\n",
       "      <td>10556.0</td>\n",
       "      <td>10471.0</td>\n",
       "      <td>10506.0</td>\n",
       "      <td>0</td>\n",
       "      <td>10641.0</td>\n",
       "      <td>1</td>\n",
       "      <td>1.000333</td>\n",
       "      <td>2.0</td>\n",
       "      <td>1.004590</td>\n",
       "      <td>3.0</td>\n",
       "      <td>1.100961</td>\n",
       "      <td>38.0</td>\n",
       "      <td>1.435825</td>\n",
       "      <td>142.0</td>\n",
       "      <td>2.596949</td>\n",
       "      <td>585.0</td>\n",
       "    </tr>\n",
       "    <tr>\n",
       "      <th>1997-05-20</th>\n",
       "      <td>10641.0</td>\n",
       "      <td>10641.0</td>\n",
       "      <td>10374.0</td>\n",
       "      <td>10641.0</td>\n",
       "      <td>0</td>\n",
       "      <td>10715.0</td>\n",
       "      <td>1</td>\n",
       "      <td>1.006384</td>\n",
       "      <td>2.0</td>\n",
       "      <td>1.017635</td>\n",
       "      <td>4.0</td>\n",
       "      <td>1.111478</td>\n",
       "      <td>39.0</td>\n",
       "      <td>1.450247</td>\n",
       "      <td>142.0</td>\n",
       "      <td>2.623434</td>\n",
       "      <td>586.0</td>\n",
       "    </tr>\n",
       "    <tr>\n",
       "      <th>...</th>\n",
       "      <td>...</td>\n",
       "      <td>...</td>\n",
       "      <td>...</td>\n",
       "      <td>...</td>\n",
       "      <td>...</td>\n",
       "      <td>...</td>\n",
       "      <td>...</td>\n",
       "      <td>...</td>\n",
       "      <td>...</td>\n",
       "      <td>...</td>\n",
       "      <td>...</td>\n",
       "      <td>...</td>\n",
       "      <td>...</td>\n",
       "      <td>...</td>\n",
       "      <td>...</td>\n",
       "      <td>...</td>\n",
       "      <td>...</td>\n",
       "    </tr>\n",
       "    <tr>\n",
       "      <th>2022-08-16</th>\n",
       "      <td>113034.0</td>\n",
       "      <td>113626.0</td>\n",
       "      <td>112690.0</td>\n",
       "      <td>113512.0</td>\n",
       "      <td>12986400</td>\n",
       "      <td>113708.0</td>\n",
       "      <td>1</td>\n",
       "      <td>1.002119</td>\n",
       "      <td>2.0</td>\n",
       "      <td>1.014837</td>\n",
       "      <td>4.0</td>\n",
       "      <td>1.094026</td>\n",
       "      <td>33.0</td>\n",
       "      <td>1.041669</td>\n",
       "      <td>127.0</td>\n",
       "      <td>1.095717</td>\n",
       "      <td>526.0</td>\n",
       "    </tr>\n",
       "    <tr>\n",
       "      <th>2022-08-17</th>\n",
       "      <td>113508.0</td>\n",
       "      <td>114146.0</td>\n",
       "      <td>112483.0</td>\n",
       "      <td>113708.0</td>\n",
       "      <td>14652800</td>\n",
       "      <td>113813.0</td>\n",
       "      <td>1</td>\n",
       "      <td>1.000863</td>\n",
       "      <td>2.0</td>\n",
       "      <td>1.010317</td>\n",
       "      <td>4.0</td>\n",
       "      <td>1.095365</td>\n",
       "      <td>33.0</td>\n",
       "      <td>1.043628</td>\n",
       "      <td>128.0</td>\n",
       "      <td>1.097248</td>\n",
       "      <td>526.0</td>\n",
       "    </tr>\n",
       "    <tr>\n",
       "      <th>2022-08-18</th>\n",
       "      <td>113708.0</td>\n",
       "      <td>114375.0</td>\n",
       "      <td>113304.0</td>\n",
       "      <td>113813.0</td>\n",
       "      <td>10644200</td>\n",
       "      <td>111496.0</td>\n",
       "      <td>0</td>\n",
       "      <td>1.000461</td>\n",
       "      <td>2.0</td>\n",
       "      <td>1.003945</td>\n",
       "      <td>5.0</td>\n",
       "      <td>1.095807</td>\n",
       "      <td>34.0</td>\n",
       "      <td>1.044700</td>\n",
       "      <td>129.0</td>\n",
       "      <td>1.097918</td>\n",
       "      <td>526.0</td>\n",
       "    </tr>\n",
       "    <tr>\n",
       "      <th>2022-08-19</th>\n",
       "      <td>113807.0</td>\n",
       "      <td>113807.0</td>\n",
       "      <td>111146.0</td>\n",
       "      <td>111496.0</td>\n",
       "      <td>12678600</td>\n",
       "      <td>110501.0</td>\n",
       "      <td>0</td>\n",
       "      <td>0.989716</td>\n",
       "      <td>1.0</td>\n",
       "      <td>0.985712</td>\n",
       "      <td>4.0</td>\n",
       "      <td>1.073567</td>\n",
       "      <td>33.0</td>\n",
       "      <td>1.023645</td>\n",
       "      <td>128.0</td>\n",
       "      <td>1.075251</td>\n",
       "      <td>526.0</td>\n",
       "    </tr>\n",
       "    <tr>\n",
       "      <th>2022-08-22</th>\n",
       "      <td>111487.0</td>\n",
       "      <td>111487.0</td>\n",
       "      <td>109858.0</td>\n",
       "      <td>110501.0</td>\n",
       "      <td>11010900</td>\n",
       "      <td>112857.0</td>\n",
       "      <td>1</td>\n",
       "      <td>0.995518</td>\n",
       "      <td>0.0</td>\n",
       "      <td>0.981307</td>\n",
       "      <td>3.0</td>\n",
       "      <td>1.064232</td>\n",
       "      <td>32.0</td>\n",
       "      <td>1.014792</td>\n",
       "      <td>127.0</td>\n",
       "      <td>1.065346</td>\n",
       "      <td>526.0</td>\n",
       "    </tr>\n",
       "  </tbody>\n",
       "</table>\n",
       "<p>6256 rows × 17 columns</p>\n",
       "</div>"
      ],
      "text/plain": [
       "                Open      High       Low     Close    Volume  Next Price  \\\n",
       "Date                                                                       \n",
       "1997-05-14   10650.0   10650.0   10188.0   10283.0         0     10354.0   \n",
       "1997-05-15   10560.0   10560.0   10256.0   10354.0         0     10499.0   \n",
       "1997-05-16   10354.0   10511.0   10354.0   10499.0         0     10506.0   \n",
       "1997-05-19   10556.0   10556.0   10471.0   10506.0         0     10641.0   \n",
       "1997-05-20   10641.0   10641.0   10374.0   10641.0         0     10715.0   \n",
       "...              ...       ...       ...       ...       ...         ...   \n",
       "2022-08-16  113034.0  113626.0  112690.0  113512.0  12986400    113708.0   \n",
       "2022-08-17  113508.0  114146.0  112483.0  113708.0  14652800    113813.0   \n",
       "2022-08-18  113708.0  114375.0  113304.0  113813.0  10644200    111496.0   \n",
       "2022-08-19  113807.0  113807.0  111146.0  111496.0  12678600    110501.0   \n",
       "2022-08-22  111487.0  111487.0  109858.0  110501.0  11010900    112857.0   \n",
       "\n",
       "            Target  Close_Ratio_2  Trend_2  Close_Ratio_5  Trend_5  \\\n",
       "Date                                                                 \n",
       "1997-05-14       1       0.982562      0.0       0.978569      3.0   \n",
       "1997-05-15       1       1.003440      1.0       0.986885      3.0   \n",
       "1997-05-16       1       1.006953      2.0       1.000572      3.0   \n",
       "1997-05-19       1       1.000333      2.0       1.004590      3.0   \n",
       "1997-05-20       1       1.006384      2.0       1.017635      4.0   \n",
       "...            ...            ...      ...            ...      ...   \n",
       "2022-08-16       1       1.002119      2.0       1.014837      4.0   \n",
       "2022-08-17       1       1.000863      2.0       1.010317      4.0   \n",
       "2022-08-18       0       1.000461      2.0       1.003945      5.0   \n",
       "2022-08-19       0       0.989716      1.0       0.985712      4.0   \n",
       "2022-08-22       1       0.995518      0.0       0.981307      3.0   \n",
       "\n",
       "            Close_Ratio_60  Trend_60  Close_Ratio_250  Trend_250  \\\n",
       "Date                                                               \n",
       "1997-05-14        1.086880      37.0         1.416977      141.0   \n",
       "1997-05-15        1.091205      38.0         1.422897      142.0   \n",
       "1997-05-16        1.103225      38.0         1.438825      142.0   \n",
       "1997-05-19        1.100961      38.0         1.435825      142.0   \n",
       "1997-05-20        1.111478      39.0         1.450247      142.0   \n",
       "...                    ...       ...              ...        ...   \n",
       "2022-08-16        1.094026      33.0         1.041669      127.0   \n",
       "2022-08-17        1.095365      33.0         1.043628      128.0   \n",
       "2022-08-18        1.095807      34.0         1.044700      129.0   \n",
       "2022-08-19        1.073567      33.0         1.023645      128.0   \n",
       "2022-08-22        1.064232      32.0         1.014792      127.0   \n",
       "\n",
       "            Close_Ratio_1000  Trend_1000  \n",
       "Date                                      \n",
       "1997-05-14          2.561637       583.0  \n",
       "1997-05-15          2.572704       584.0  \n",
       "1997-05-16          2.601960       585.0  \n",
       "1997-05-19          2.596949       585.0  \n",
       "1997-05-20          2.623434       586.0  \n",
       "...                      ...         ...  \n",
       "2022-08-16          1.095717       526.0  \n",
       "2022-08-17          1.097248       526.0  \n",
       "2022-08-18          1.097918       526.0  \n",
       "2022-08-19          1.075251       526.0  \n",
       "2022-08-22          1.065346       526.0  \n",
       "\n",
       "[6256 rows x 17 columns]"
      ]
     },
     "execution_count": 29,
     "metadata": {},
     "output_type": "execute_result"
    }
   ],
   "source": [
    "bvsp"
   ]
  },
  {
   "cell_type": "code",
   "execution_count": null,
   "id": "c5f26cd7-c4a3-407d-9258-1660bf8b1c8b",
   "metadata": {},
   "outputs": [],
   "source": []
  }
 ],
 "metadata": {
  "kernelspec": {
   "display_name": "Python 3 (ipykernel)",
   "language": "python",
   "name": "python3"
  },
  "language_info": {
   "codemirror_mode": {
    "name": "ipython",
    "version": 3
   },
   "file_extension": ".py",
   "mimetype": "text/x-python",
   "name": "python",
   "nbconvert_exporter": "python",
   "pygments_lexer": "ipython3",
   "version": "3.10.5"
  }
 },
 "nbformat": 4,
 "nbformat_minor": 5
}
